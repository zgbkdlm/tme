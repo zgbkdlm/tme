{
 "cells": [
  {
   "cell_type": "markdown",
   "metadata": {
    "pycharm": {
     "name": "#%% md\n"
    }
   },
   "source": [
    "This notebook exemplifies TME (in SymPy) on a Benes model.\n",
    "\n",
    "$\n",
    "d X(t) = \\mathrm{tanh}(X(t)) dt + dW(t).\n",
    "$\n",
    "\n",
    "We want to compute its mean and variance as well as some non-linear expectations, such as\n",
    "\n",
    "$\n",
    "\\mathbb{E}[\\sin(X(t)) \\mid X(t_0)]\n",
    "$\n",
    "\n",
    "by using the TME method.\n",
    "\n",
    "First, you need to have the package `tme` installed."
   ]
  },
  {
   "cell_type": "code",
   "execution_count": 1,
   "metadata": {
    "pycharm": {
     "name": "#%%\n"
    }
   },
   "outputs": [],
   "source": [
    "import math\n",
    "import sympy as sp\n",
    "import numpy as np\n",
    "import tme.base_sympy as tme\n",
    "import matplotlib.pyplot as plt\n",
    "from sympy import lambdify\n",
    "from typing import Callable"
   ]
  },
  {
   "cell_type": "markdown",
   "metadata": {
    "pycharm": {
     "name": "#%% md\n"
    }
   },
   "source": [
    "In order to measure the TME approximation accuracy, we use these functions to compute the expectations above exactly by Rieman integrations."
   ]
  },
  {
   "cell_type": "code",
   "execution_count": 2,
   "metadata": {
    "pycharm": {
     "name": "#%%\n"
    }
   },
   "outputs": [],
   "source": [
    "def rieman1D(x: np.ndarray,\n",
    "             f: Callable,\n",
    "             *args, **kwargs):\n",
    "    r\"\"\"Riemannian computation of an integral\n",
    "    \\int f(x, *args, **kwargs) dx \\approx \\sum f(x_i) (x_i - x_i-1)\n",
    "\n",
    "    This should be replaced by np.trapz. Sorry, too lazy to change...\n",
    "    \"\"\"\n",
    "    return np.sum(f(x[1:], *args, **kwargs) * np.diff(x))\n",
    "\n",
    "def benesPDF(x: np.ndarray,\n",
    "             x0: float,\n",
    "             dt: float):\n",
    "    \"\"\"\n",
    "    Transition density of the Benes model.\n",
    "    See, pp. 214 in Sarkka 2019.\n",
    "    \"\"\"\n",
    "    return 1 / math.sqrt(2 * math.pi * dt) * np.cosh(x) / np.cosh(x0) \\\n",
    "           * math.exp(-0.5 * dt) * np.exp(-0.5 / dt * (x - x0) ** 2)\n",
    "\n",
    "def f_mean(x: np.ndarray,\n",
    "           x0: float,\n",
    "           dt: float):\n",
    "    return x * benesPDF(x, x0, dt)\n",
    "\n",
    "\n",
    "def f_x2(x: np.ndarray,\n",
    "         x0: float,\n",
    "         dt: float):\n",
    "    return x ** 2 * benesPDF(x, x0, dt)\n",
    "\n",
    "def f_sin(x: np.ndarray,\n",
    "          x0: float,\n",
    "          dt: float):\n",
    "    return np.sin(x) * benesPDF(x, x0, dt)"
   ]
  },
  {
   "cell_type": "markdown",
   "metadata": {
    "pycharm": {
     "name": "#%% md\n"
    }
   },
   "source": [
    "Now, in order to use TME (in SymPy), the first step is to make symbols of the Benes SDE in SymPy."
   ]
  },
  {
   "cell_type": "code",
   "execution_count": 3,
   "metadata": {
    "pycharm": {
     "name": "#%%\n"
    }
   },
   "outputs": [],
   "source": [
    "x = sp.MatrixSymbol('x', 1, 1)\n",
    "drift = sp.Matrix([sp.tanh(x[0])])\n",
    "dispersion = sp.eye(1)\n",
    "dt_sym = sp.Symbol('dt', positive=True)"
   ]
  },
  {
   "cell_type": "markdown",
   "metadata": {
    "pycharm": {
     "name": "#%% md\n"
    }
   },
   "source": [
    "Then, we bring in TME and lambdify the results (i.e., make the symbolic results \"numpy\" functons)."
   ]
  },
  {
   "cell_type": "code",
   "execution_count": 4,
   "metadata": {
    "scrolled": false,
    "pycharm": {
     "name": "#%%\n"
    }
   },
   "outputs": [
    {
     "name": "stderr",
     "output_type": "stream",
     "text": [
      "/home/zgbkdlm/Research/tme/python/tme/base_sympy.py:337: UserWarning: The simplification method sympy.simplify can be slow in some cases.\n",
      "  warnings.warn('The simplification method sympy.simplify can be slow in some cases.')\n"
     ]
    }
   ],
   "source": [
    "# Get the mean and cov symbolc results with expansion order 3 and simplification.\n",
    "mean, var = tme.mean_and_cov(x=x, drift=drift, dispersion=dispersion, dt=dt_sym,\n",
    "                             order=3, simp=True)\n",
    "Esin = tme.expectation(sp.Matrix([sp.sin(x[0])]), \n",
    "                       x=x, drift=drift, dispersion=dispersion, dt=dt_sym,\n",
    "                       order=3, simp=True)\n",
    "\n",
    "# Next, we need to convert the symbolic results into numpy functions for numerical computations.\n",
    "# The converted functions accept two arguments: x and dt.\n",
    "mean_func = lambdify([x, dt_sym], mean, 'numpy')\n",
    "var_func = lambdify([x, dt_sym], var, 'numpy')\n",
    "Esin_func = lambdify([x, dt_sym], Esin, 'numpy')"
   ]
  },
  {
   "cell_type": "markdown",
   "metadata": {
    "pycharm": {
     "name": "#%% md\n"
    }
   },
   "source": [
    "The mean and var solutions from TME-3 are exact, which we could also see later in the plot."
   ]
  },
  {
   "cell_type": "code",
   "execution_count": 5,
   "metadata": {
    "pycharm": {
     "name": "#%%\n"
    }
   },
   "outputs": [
    {
     "data": {
      "text/plain": "(Matrix([[dt*tanh(x[0, 0]) + x[0, 0]]]),\n Matrix([[1.0*dt*(-dt*tanh(x[0, 0])**2 + dt + 1)]]))"
     },
     "execution_count": 5,
     "metadata": {},
     "output_type": "execute_result"
    }
   ],
   "source": [
    "mean, var"
   ]
  },
  {
   "cell_type": "markdown",
   "metadata": {
    "pycharm": {
     "name": "#%% md\n"
    }
   },
   "source": [
    "Next we can compute the expectations, and let's also compare with numerically exact solutions."
   ]
  },
  {
   "cell_type": "code",
   "execution_count": 6,
   "metadata": {
    "pycharm": {
     "name": "#%%\n"
    }
   },
   "outputs": [],
   "source": [
    "np.random.seed(666)\n",
    "\n",
    "x0 = 0.5\n",
    "\n",
    "# Generate time instances\n",
    "num_measurements = 200\n",
    "T = np.linspace(0.01, 4, num_measurements)\n",
    "\n",
    "# Result containers\n",
    "mean_results = np.zeros((num_measurements, ))\n",
    "var_results = np.zeros((num_measurements, ))\n",
    "Esin_results = np.zeros((num_measurements, ))\n",
    "\n",
    "# Compute TME for every t in T by calling the generated functions above\n",
    "for idx, t in enumerate(T):\n",
    "    mean_results[idx] = mean_func(np.array([[x0]]), np.array([[t]]))\n",
    "    var_results[idx] = var_func(np.array([[x0]]), np.array([[t]]))\n",
    "    Esin_results[idx] = Esin_func(np.array([[x0]]), np.array([[t]]))\n",
    "    \n",
    "# Compute the mean and variance by numerical integration\n",
    "# Riemannian range\n",
    "range_dx = np.linspace(x0 - 20, x0 + 20, 100000)\n",
    "\n",
    "riem_mean_results = np.zeros((num_measurements, ))\n",
    "riem_var_results = np.zeros((num_measurements, ))\n",
    "riem_Esin_results = np.zeros((num_measurements, ))\n",
    "\n",
    "for idx, t in enumerate(T):\n",
    "    riem_mean_results[idx] = rieman1D(range_dx, f_mean, x0=x0, dt=t)\n",
    "    riem_var_results[idx] = rieman1D(range_dx, f_x2, x0=x0, dt=t) - riem_mean_results[idx] ** 2\n",
    "    riem_Esin_results[idx] = rieman1D(range_dx, f_sin, x0=x0, dt=t)"
   ]
  },
  {
   "cell_type": "markdown",
   "metadata": {
    "pycharm": {
     "name": "#%% md\n"
    }
   },
   "source": [
    "Finally let us plot the results. We can see that, for"
   ]
  },
  {
   "cell_type": "code",
   "execution_count": 7,
   "metadata": {
    "pycharm": {
     "name": "#%%\n"
    }
   },
   "outputs": [
    {
     "data": {
      "text/plain": "Text(0.5, 1.0, 'Approximation for variance.')"
     },
     "execution_count": 7,
     "metadata": {},
     "output_type": "execute_result"
    },
    {
     "data": {
      "text/plain": "<Figure size 432x288 with 1 Axes>",
      "image/png": "[encoded data removed]"
     },
     "metadata": {
      "needs_background": "light"
     },
     "output_type": "display_data"
    }
   ],
   "source": [
    "plt.plot(T, riem_var_results, \n",
    "         linewidth=3, marker='+', markevery=20, markersize=17, \n",
    "         label='exact')\n",
    "plt.plot(T, var_results,\n",
    "         linewidth=3, marker='.', markevery=20, markersize=17,\n",
    "         label='TME-3')\n",
    "plt.legend(loc='upper left')\n",
    "plt.title('Approximation for variance.')"
   ]
  },
  {
   "cell_type": "code",
   "execution_count": 8,
   "metadata": {
    "pycharm": {
     "name": "#%%\n"
    }
   },
   "outputs": [
    {
     "data": {
      "text/plain": "Text(0.5, 1.0, 'Approximation for E[sin(X(t))].')"
     },
     "execution_count": 8,
     "metadata": {},
     "output_type": "execute_result"
    },
    {
     "data": {
      "text/plain": "<Figure size 432x288 with 1 Axes>",
      "image/png": "[encoded data removed]"
     },
     "metadata": {
      "needs_background": "light"
     },
     "output_type": "display_data"
    }
   ],
   "source": [
    "plt.plot(T, riem_Esin_results, \n",
    "         linewidth=3, marker='+', markevery=20, markersize=17, \n",
    "         label='exact')\n",
    "plt.plot(T, Esin_results,\n",
    "         linewidth=3, marker='.', markevery=20, markersize=17,\n",
    "         label='TME-3')\n",
    "plt.legend(loc='upper left')\n",
    "plt.title('Approximation for E[sin(X(t))].')"
   ]
  }
 ],
 "metadata": {
  "kernelspec": {
   "display_name": "Python 3",
   "language": "python",
   "name": "python3"
  },
  "language_info": {
   "codemirror_mode": {
    "name": "ipython",
    "version": 3
   },
   "file_extension": ".py",
   "mimetype": "text/x-python",
   "name": "python",
   "nbconvert_exporter": "python",
   "pygments_lexer": "ipython3",
   "version": "3.8.8"
  }
 },
 "nbformat": 4,
 "nbformat_minor": 4
}