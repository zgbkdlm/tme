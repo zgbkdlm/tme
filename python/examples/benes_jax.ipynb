{
 "cells": [
  {
   "cell_type": "markdown",
   "id": "f54cf3c9",
   "metadata": {
    "pycharm": {
     "name": "#%% md\n"
    }
   },
   "source": [
    "This notebook shows how to approximate the mean and variance of Benes model\n",
    "\n",
    "$$\n",
    "d X(t) = \\tanh (X(t)) dt + d W(t),\n",
    "$$\n",
    "\n",
    "by using the TME method in JAX. We also exemplify how to approximate\n",
    "\n",
    "$$\n",
    "\\mathbb{E}[\\sin(X(t)) \\mid X(t_0)].\n",
    "$$\n",
    "\n",
    "Before we start, you should make sure that the `tme` package is installed (and JAX also)."
   ]
  },
  {
   "cell_type": "code",
   "execution_count": 9,
   "id": "107a0f34",
   "metadata": {
    "pycharm": {
     "name": "#%%\n"
    }
   },
   "outputs": [],
   "source": [
    "# Imports\n",
    "import jax\n",
    "import numpy as np\n",
    "import jax.numpy as jnp\n",
    "import tme.base_jax as tme\n",
    "import matplotlib.pyplot as plt\n",
    "from jax import jit\n",
    "from jax.config import config\n",
    "from typing import Tuple\n",
    "\n",
    "config.update(\"jax_enable_x64\", True)"
   ]
  },
  {
   "cell_type": "markdown",
   "id": "42f3df47",
   "metadata": {
    "pycharm": {
     "name": "#%% md\n"
    }
   },
   "source": [
    "First, let us write down the SDE coefficients and a non-linear function `sin()`."
   ]
  },
  {
   "cell_type": "code",
   "execution_count": 10,
   "id": "b628423d",
   "metadata": {
    "pycharm": {
     "name": "#%%\n"
    }
   },
   "outputs": [],
   "source": [
    "def drift(x: jnp.ndarray) -> jnp.ndarray:\n",
    "    return jnp.tanh(x)\n",
    "\n",
    "bb = jnp.array([[1.]])  # bb=jnp.array([1.]) is also okay, as the program will force its shape to be a matrix\n",
    "\n",
    "def dispersion(_) -> jnp.ndarray:\n",
    "    return bb\n",
    "\n",
    "def esin(x: jnp.ndarray) -> jnp.ndarray:\n",
    "    return jnp.sin(x)"
   ]
  },
  {
   "cell_type": "markdown",
   "id": "c553b6b5",
   "metadata": {
    "pycharm": {
     "name": "#%% md\n"
    }
   },
   "source": [
    "Almost done! We next just need to call `tme.mean_and_cov()` and `tme.expectation()` functions.\n",
    "\n",
    "In order to make the best use of JaX, let's jit compile these functions. You can of course choose not to do so if you don't want jit."
   ]
  },
  {
   "cell_type": "code",
   "execution_count": 11,
   "id": "b683d30d",
   "metadata": {
    "scrolled": true,
    "pycharm": {
     "name": "#%%\n"
    }
   },
   "outputs": [],
   "source": [
    "@jit\n",
    "def tme_m_cov(x: jnp.ndarray, dt: float) -> Tuple[jnp.ndarray, jnp.ndarray]:\n",
    "    return tme.mean_and_cov(x=x, dt=dt, drift=drift, dispersion=dispersion, order=3)\n",
    "\n",
    "@jit\n",
    "def tme_esin(x: jnp.ndarray, dt: float) -> jnp.ndarray:\n",
    "    return tme.expectation(phi=esin,\n",
    "                           x=x, dt=dt, drift=drift, dispersion=dispersion, order=3)"
   ]
  },
  {
   "cell_type": "markdown",
   "id": "c3cc3778",
   "metadata": {
    "pycharm": {
     "name": "#%% md\n"
    }
   },
   "source": [
    "Let us compute $\\mathbb{E}[X(t) \\mid X(0)]$, $\\mathrm{Var}[X(t) \\mid X(0)]$, and $\\mathbb{E}[\\sin(X(t)) \\mid X(0)]$ at $t=0.01, 0.02, \\ldots, 4$."
   ]
  },
  {
   "cell_type": "code",
   "execution_count": 12,
   "id": "351be118",
   "metadata": {
    "pycharm": {
     "name": "#%%\n"
    }
   },
   "outputs": [],
   "source": [
    "# Initial value at t=0\n",
    "x = jnp.array([0.5])\n",
    "\n",
    "# Time instances\n",
    "num_time_steps = 400\n",
    "dt = 0.01\n",
    "ts = np.linspace(dt, dt * num_time_steps, num_time_steps)\n",
    "\n",
    "# Compute for t=0.01, ..., 4\n",
    "# For pedagogical purpose, please use vmap instead\n",
    "m_results = np.zeros((num_time_steps, ))\n",
    "var_results = np.zeros((num_time_steps, ))\n",
    "esin_results = np.zeros((num_time_steps, ))\n",
    "\n",
    "for idx, t in enumerate(ts):\n",
    "    m_results[idx], var_results[idx] = tme_m_cov(x, t)\n",
    "    esin_results[idx] = tme_esin(x, t)"
   ]
  },
  {
   "cell_type": "markdown",
   "source": [
    "The code above is silly, as we are doing a loop over the time steps and write the jax results into a numpy container. You should use the following code instead."
   ],
   "metadata": {
    "collapsed": false,
    "pycharm": {
     "name": "#%% md\n"
    }
   }
  },
  {
   "cell_type": "code",
   "execution_count": 13,
   "outputs": [],
   "source": [
    "# These vectorise the function over the dt argument.\n",
    "vectorised_tme_m_cov = jax.vmap(tme_m_cov, in_axes=[None, 0])\n",
    "vectorised_tme_esin = jax.vmap(tme_esin, in_axes=[None, 0])\n",
    "\n",
    "m_results, var_results = vectorised_tme_m_cov(x, ts)\n",
    "esin_results = vectorised_tme_esin(x, ts)"
   ],
   "metadata": {
    "collapsed": false,
    "pycharm": {
     "name": "#%%\n"
    }
   }
  },
  {
   "cell_type": "markdown",
   "id": "b2ee9dd3",
   "metadata": {
    "pycharm": {
     "name": "#%% md\n"
    }
   },
   "source": [
    "Finally, we plot the results. \n",
    "\n",
    "**Please note that the TME-3 method here gives exact solutions of the mean and variance of the Benes SDE. In notebook `benes_sympy.ipynb` we compared with the exact solutions via numerical integrations. However, for simplicity, we are not plotting the exact solutions here.**"
   ]
  },
  {
   "cell_type": "code",
   "execution_count": 16,
   "id": "03a81cf9",
   "metadata": {
    "pycharm": {
     "name": "#%%\n"
    }
   },
   "outputs": [
    {
     "data": {
      "text/plain": "<Figure size 432x288 with 1 Axes>",
      "image/png": "[encoded data removed]"
     },
     "metadata": {
      "needs_background": "light"
     },
     "output_type": "display_data"
    }
   ],
   "source": [
    "_ = plt.plot(ts, m_results,\n",
    "             linewidth=3, marker='.', markevery=20, markersize=17,\n",
    "             label='TME-3')\n",
    "plt.legend(loc='upper left')\n",
    "_ = plt.title('Approximation for the mean E[X(t) | X(0)].')"
   ]
  },
  {
   "cell_type": "code",
   "execution_count": 18,
   "id": "594436a4",
   "metadata": {
    "pycharm": {
     "name": "#%%\n"
    }
   },
   "outputs": [
    {
     "data": {
      "text/plain": "<Figure size 432x288 with 1 Axes>",
      "image/png": "[encoded data removed]"
     },
     "metadata": {
      "needs_background": "light"
     },
     "output_type": "display_data"
    }
   ],
   "source": [
    "_ = plt.plot(ts, jnp.squeeze(var_results),\n",
    "             linewidth=3, marker='.', markevery=20, markersize=17,\n",
    "             label='TME-3')\n",
    "plt.legend(loc='upper left')\n",
    "_ = plt.title('Approximation for the variance Var[X(t) | X(0)].')"
   ]
  },
  {
   "cell_type": "code",
   "execution_count": 20,
   "outputs": [
    {
     "data": {
      "text/plain": "<Figure size 432x288 with 1 Axes>",
      "image/png": "[encoded data removed]"
     },
     "metadata": {
      "needs_background": "light"
     },
     "output_type": "display_data"
    }
   ],
   "source": [
    "_ = plt.plot(ts, esin_results,\n",
    "             linewidth=3, marker='.', markevery=20, markersize=17,\n",
    "             label='TME-3')\n",
    "plt.legend(loc='upper left')\n",
    "_ = plt.title('Approximation for E[sin(X(t)) | X(0)].')"
   ],
   "metadata": {
    "collapsed": false,
    "pycharm": {
     "name": "#%%\n"
    }
   }
  }
 ],
 "metadata": {
  "kernelspec": {
   "display_name": "Python 3",
   "language": "python",
   "name": "python3"
  },
  "language_info": {
   "codemirror_mode": {
    "name": "ipython",
    "version": 3
   },
   "file_extension": ".py",
   "mimetype": "text/x-python",
   "name": "python",
   "nbconvert_exporter": "python",
   "pygments_lexer": "ipython3",
   "version": "3.8.8"
  }
 },
 "nbformat": 4,
 "nbformat_minor": 5
}