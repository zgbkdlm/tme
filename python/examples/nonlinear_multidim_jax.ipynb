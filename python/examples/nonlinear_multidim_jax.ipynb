{
 "cells": [
  {
   "cell_type": "markdown",
   "id": "f8926248",
   "metadata": {
    "pycharm": {
     "name": "#%% md\n"
    }
   },
   "source": [
    "Consider a non-linear multidimensional SDE\n",
    "\n",
    "$$\n",
    "\\begin{aligned}\n",
    "d X_1(t) &= X_2(t) dt, \\\\\n",
    "d X_2(t) &= X_1(t) \\, \\big(\\alpha - (X_1(t))^2\\big) - X_2(t) dt + X_1(t) d W(t),\n",
    "\\end{aligned}\n",
    "$$\n",
    "\n",
    "The model above is called a modified Duffing-van der Pol model.\n",
    "\n",
    "In this notebook, we show how to use the TME method to approximate the mean and covariance of the solution of the SDE above. \n",
    "\n",
    "Before we proceed, please make sure that you have the `tme` package installed together with `JAX`."
   ]
  },
  {
   "cell_type": "code",
   "execution_count": 1,
   "id": "2e350792",
   "metadata": {
    "pycharm": {
     "name": "#%%\n"
    }
   },
   "outputs": [],
   "source": [
    "# Imports\n",
    "import math\n",
    "import numpy as np\n",
    "import jax.numpy as jnp\n",
    "import tme.base_jax as tme\n",
    "import matplotlib.pyplot as plt\n",
    "from jax import jit\n",
    "from jax.config import config\n",
    "from typing import Tuple\n",
    "\n",
    "config.update(\"jax_enable_x64\", True)"
   ]
  },
  {
   "cell_type": "markdown",
   "id": "a386c2c8",
   "metadata": {
    "pycharm": {
     "name": "#%% md\n"
    }
   },
   "source": [
    "First, let us write down the SDE coefficients"
   ]
  },
  {
   "cell_type": "code",
   "execution_count": 2,
   "id": "f4756c8d",
   "metadata": {
    "pycharm": {
     "name": "#%%\n"
    }
   },
   "outputs": [],
   "source": [
    "alp = 1.\n",
    "q = 0.1\n",
    "\n",
    "def drift(x: jnp.ndarray) -> jnp.ndarray:\n",
    "    return jnp.array([x[1],\n",
    "                      x[0] * (alp - x[0] ** 2) - x[1]])\n",
    "\n",
    "def dispersion(x: jnp.ndarray) -> jnp.ndarray:\n",
    "    return jnp.array([0., x[0]]) * math.sqrt(q)"
   ]
  },
  {
   "cell_type": "markdown",
   "id": "2dc46fdb",
   "metadata": {
    "pycharm": {
     "name": "#%% md\n"
    }
   },
   "source": [
    "Okay, next we can jit the functon `tme_m_cov` for fast computation."
   ]
  },
  {
   "cell_type": "code",
   "execution_count": 3,
   "id": "1506f951",
   "metadata": {
    "pycharm": {
     "name": "#%%\n"
    }
   },
   "outputs": [],
   "source": [
    "@jit\n",
    "def tme_m_cov(x: jnp.ndarray, dt: float) -> Tuple[jnp.ndarray, jnp.ndarray]:\n",
    "    return tme.mean_and_cov(x=x, dt=dt, drift=drift, dispersion=dispersion, order=3)"
   ]
  },
  {
   "cell_type": "markdown",
   "id": "323d908e",
   "metadata": {
    "pycharm": {
     "name": "#%% md\n"
    }
   },
   "source": [
    "Now we can call the function `tme_m_cov` to compute the mean and covariance."
   ]
  },
  {
   "cell_type": "code",
   "execution_count": 4,
   "id": "4eede033",
   "metadata": {
    "scrolled": true,
    "pycharm": {
     "name": "#%%\n"
    }
   },
   "outputs": [],
   "source": [
    "# Initial value at t=0\n",
    "x = jnp.array([0., -1])\n",
    "\n",
    "# Time instances\n",
    "num_time_steps = 100\n",
    "T = np.linspace(0.01, 1, num_time_steps)\n",
    "\n",
    "# Result containers\n",
    "m_results = np.zeros((num_time_steps, 2))\n",
    "cov_results = np.zeros((num_time_steps, 2, 2))\n",
    "\n",
    "# Compute for t=0.01, ..., 1\n",
    "# Note that you can do this loop more efficiently by using `vmap`. See how is this done in benes_jax.ipynb\n",
    "for idx, t in enumerate(T):\n",
    "    m_results[idx], cov_results[idx] = tme_m_cov(x, t)"
   ]
  },
  {
   "cell_type": "markdown",
   "id": "b73379d3",
   "metadata": {
    "pycharm": {
     "name": "#%% md\n"
    }
   },
   "source": [
    "Plot results"
   ]
  },
  {
   "cell_type": "code",
   "execution_count": 5,
   "id": "0e8e6bde",
   "metadata": {
    "scrolled": true,
    "pycharm": {
     "name": "#%%\n"
    }
   },
   "outputs": [
    {
     "data": {
      "text/plain": "<Figure size 432x288 with 1 Axes>",
      "image/png": "[encoded data removed]"
     },
     "metadata": {
      "needs_background": "light"
     },
     "output_type": "display_data"
    }
   ],
   "source": [
    "_ = plt.plot(T, m_results[:, 0],\n",
    "             linewidth=3, marker='.', markevery=20, markersize=17,\n",
    "             label='TME-3 X_1(t)')\n",
    "_ = plt.plot(T, m_results[:, 1],\n",
    "             linewidth=3, marker='.', markevery=20, markersize=17,\n",
    "             label='TME-3 X_2(t)')\n",
    "plt.legend()\n",
    "_ = plt.title('Approximation for the mean E[X(t) | X(0)].')"
   ]
  },
  {
   "cell_type": "markdown",
   "id": "2b12dd16",
   "metadata": {
    "pycharm": {
     "name": "#%% md\n"
    }
   },
   "source": [
    "How do the results above compared to the exact solutions?\n",
    "\n",
    "To do so, let us quickly do a Monte Carlo sampling of the process by using Euler--Maruyama discretisation. \n",
    "\n",
    "(Don't use the crap code below in reality, it's just meant for quick implementation.)"
   ]
  },
  {
   "cell_type": "code",
   "execution_count": 6,
   "id": "5547830e",
   "metadata": {
    "pycharm": {
     "name": "#%%\n"
    }
   },
   "outputs": [],
   "source": [
    "np.random.seed(666)\n",
    "\n",
    "def a(x): return np.array([x[1], x[0] * (alp - x[0] ** 2) - x[1]])\n",
    "def b(x): return np.array([0., x[0]])\n",
    "\n",
    "def euler_maruyama_mc(x0, num_mc, dt, num_times):\n",
    "    samples = np.zeros((num_mc, num_times, 2))\n",
    "    for mc in range(num_mc):\n",
    "        x = x0.copy()\n",
    "        for t in range(num_times):\n",
    "            x += a(x) * dt + np.sqrt(dt * q) * b(x) * np.random.randn()\n",
    "            samples[mc, t] = x\n",
    "    return samples"
   ]
  },
  {
   "cell_type": "markdown",
   "id": "785cc835",
   "metadata": {
    "pycharm": {
     "name": "#%% md\n"
    }
   },
   "source": [
    "You may change the dt and number of time steps to get better Euler--Maruyama disc."
   ]
  },
  {
   "cell_type": "code",
   "execution_count": 7,
   "id": "a2c441c2",
   "metadata": {
    "scrolled": true,
    "pycharm": {
     "name": "#%%\n"
    }
   },
   "outputs": [],
   "source": [
    "samples = euler_maruyama_mc(np.array(x), 1000, 0.001, 1000)\n",
    "m_em = np.mean(samples, axis=0)"
   ]
  },
  {
   "cell_type": "markdown",
   "id": "f1594776",
   "metadata": {
    "pycharm": {
     "name": "#%% md\n"
    }
   },
   "source": [
    "Well, we see that the TME approximations are pretty close to the Monte Carlo (Euler--Maruyama) results."
   ]
  },
  {
   "cell_type": "code",
   "execution_count": 8,
   "id": "1045725a",
   "metadata": {
    "pycharm": {
     "name": "#%%\n"
    }
   },
   "outputs": [
    {
     "data": {
      "text/plain": "<Figure size 432x288 with 1 Axes>",
      "image/png": "[encoded data removed]"
     },
     "metadata": {
      "needs_background": "light"
     },
     "output_type": "display_data"
    }
   ],
   "source": [
    "plt.plot(np.linspace(0.001, 1, 1000), m_em[:, 0],\n",
    "         linewidth=3, marker='.', markevery=200, markersize=17,\n",
    "         linestyle='--',\n",
    "         label='Monte Carlo X_1(t)')\n",
    "plt.plot(T, m_results[:, 0],\n",
    "         linewidth=3, marker='.', markevery=20, markersize=17,\n",
    "         label='TME-3 X_1(t)')\n",
    "\n",
    "plt.plot(np.linspace(0.001, 1, 1000), m_em[:, 1],\n",
    "         linewidth=3, marker='x', markevery=200, markersize=17,\n",
    "         linestyle='--',\n",
    "         label='Monte Carlo X_2(t)')\n",
    "plt.plot(T, m_results[:, 1],\n",
    "         linewidth=3, marker='x', markevery=20, markersize=17,\n",
    "         label='TME-3 X_2(t)')\n",
    "plt.legend()\n",
    "_ = plt.title('Approximation for the mean E[X(t) | X(0)].')"
   ]
  },
  {
   "cell_type": "markdown",
   "source": [
    "Exercise:\n",
    "\n",
    "Approximate $\\mathbb{E}[\\log(1 + \\exp(X(t))) \\mid X(0)]$."
   ],
   "metadata": {
    "collapsed": false,
    "pycharm": {
     "name": "#%% md\n"
    }
   }
  }
 ],
 "metadata": {
  "kernelspec": {
   "display_name": "Python 3",
   "language": "python",
   "name": "python3"
  },
  "language_info": {
   "codemirror_mode": {
    "name": "ipython",
    "version": 3
   },
   "file_extension": ".py",
   "mimetype": "text/x-python",
   "name": "python",
   "nbconvert_exporter": "python",
   "pygments_lexer": "ipython3",
   "version": "3.8.8"
  }
 },
 "nbformat": 4,
 "nbformat_minor": 5
}